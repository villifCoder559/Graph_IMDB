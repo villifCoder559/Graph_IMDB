{
 "cells": [
  {
   "cell_type": "code",
   "execution_count": 13,
   "metadata": {},
   "outputs": [],
   "source": [
    "import re\n",
    "import numpy as np\n",
    "import networkx as nx\n",
    "import random as rnd\n",
    "import itertools\n",
    "from networkx.utils.decorators import py_random_state\n",
    "import bisect\n",
    "import time\n",
    "import sys"
   ]
  },
  {
   "cell_type": "markdown",
   "metadata": {},
   "source": [
    "--------------------------------------\n",
    "<h3>Creation graph from dataset</h3>\n",
    "<h5>ID odd -> film <br>\n",
    "    ID even -> actor</h5>"
   ]
  },
  {
   "cell_type": "code",
   "execution_count": 14,
   "metadata": {},
   "outputs": [],
   "source": [
    "file=open('original.tsv','r')\n",
    "EOF=False\n",
    "id_actor=0\n",
    "id_film=1\n",
    "count_actor=0\n",
    "count_film=1\n",
    "actor_to_key={}\n",
    "key_to_actor={}\n",
    "film_to_key={}\n",
    "key_to_film={}\n",
    "G=nx.Graph()\n",
    "while not EOF:\n",
    "    line=file.readline().split('\\n')\n",
    "    record=line[0].split('\\t')\n",
    "    if  len(record)<2:\n",
    "        print(record)\n",
    "        EOF=True\n",
    "    else:\n",
    "        film=record[1]\n",
    "        year=re.search(\"\\s\\([0-9]{4}\\)\",film)\n",
    "        actor=record[0]\n",
    "        if year:\n",
    "            year=np.int16(year.group(0).replace(\" (\",'').replace(')',''))\n",
    "        else:\n",
    "            year=re.search(\"\\s\\([0-9]{4}\\/\",film)\n",
    "            if year:\n",
    "                year=np.int16(year.group(0).replace(\" (\",'').replace('/',''))\n",
    "            else:\n",
    "                year=3000\n",
    "        if actor not in actor_to_key:\n",
    "            id_actor=count_actor\n",
    "            count_actor=count_actor+2\n",
    "            actor_to_key[actor]=id_actor\n",
    "            key_to_actor[id_actor]=actor\n",
    "        else:\n",
    "            id_actor=actor_to_key[actor]\n",
    "        if film not in film_to_key:\n",
    "            id_film=count_film\n",
    "            count_film=count_film+2\n",
    "            film_to_key[film]=id_film\n",
    "            key_to_film[id_film]=(film,year)\n",
    "        else:\n",
    "            id_film=film_to_key[film]\n",
    "        G.add_edge(id_actor,id_film,year=year)\n",
    "del film_to_key\n",
    "del actor_to_key\n",
    "del id_actor\n",
    "del id_film\n",
    "del count_actor\n",
    "del count_film"
   ]
  },
  {
   "cell_type": "markdown",
   "metadata": {},
   "source": [
    "--------------------------------------\n",
    "<h3>Which is the movie with the largest number of actors, considering only the movies up to year x?</h3>"
   ]
  },
  {
   "cell_type": "code",
   "execution_count": 5,
   "metadata": {},
   "outputs": [
    {
     "name": "stdout",
     "output_type": "stream",
     "text": [
      "up to year -> 1930\n",
      "Number of actors -> 171\n",
      "Film -> The King of Kings (1927)\n",
      "up to year -> 1940\n",
      "Number of actors -> 219\n",
      "Film -> The Buccaneer (1938)\n",
      "up to year -> 1950\n",
      "Number of actors -> 290\n",
      "Film -> Gone to Earth (1950)\n",
      "up to year -> 1960\n",
      "Number of actors -> 1298\n",
      "Film -> Around the World in Eighty Days (1956)\n",
      "up to year -> 1970\n",
      "Number of actors -> 1298\n",
      "Film -> Around the World in Eighty Days (1956)\n",
      "up to year -> 1980\n",
      "Number of actors -> 1298\n",
      "Film -> Around the World in Eighty Days (1956)\n",
      "up to year -> 1990\n",
      "Number of actors -> 1298\n",
      "Film -> Around the World in Eighty Days (1956)\n",
      "up to year -> 2000\n",
      "Number of actors -> 1298\n",
      "Film -> Around the World in Eighty Days (1956)\n",
      "up to year -> 2010\n",
      "Number of actors -> 1298\n",
      "Film -> Around the World in Eighty Days (1956)\n",
      "up to year -> 2020\n",
      "Number of actors -> 1298\n",
      "Film -> Around the World in Eighty Days (1956)\n"
     ]
    }
   ],
   "source": [
    "x = [1930,1940,1950,1960,1970,1980,1990,2000,2010,2020]\n",
    "# up_to_year=x[rnd.randint(0,len(x)-1)]\n",
    "for up_to_year in x:\n",
    "    time_start=time.time()\n",
    "    best_result={'count':0,'movies':[]}\n",
    "    for film,name_year in key_to_film.items():\n",
    "        if name_year[1]<=up_to_year:\n",
    "            tot_actors=len(G[film])\n",
    "            if(tot_actors>=best_result['count']):\n",
    "                if tot_actors>best_result['count']:\n",
    "                    best_result['movies']=[]\n",
    "                    best_result['count']=tot_actors\n",
    "                best_result['movies'].append(film)\n",
    "    print('up to year -> '+str(up_to_year))\n",
    "    print('Number of actors -> '+str(best_result['count']))\n",
    "    for movie in best_result['movies']:\n",
    "        print('Film -> '+key_to_film[movie][0])"
   ]
  },
  {
   "cell_type": "markdown",
   "metadata": {},
   "source": [
    "----------------------------------------------------------\n",
    "<h3>Considering only the movies up to year x with x in {1930,1940,1950,1960,1970,1980,1990,2000,2010,2020} and restricting to the largest connected component of the graph.<br> \n",
    "Compute exactly the diameter of G</h3>\n"
   ]
  },
  {
   "cell_type": "code",
   "execution_count": 6,
   "metadata": {},
   "outputs": [],
   "source": [
    "@py_random_state(1)\n",
    "def two_sweep(Graph, seed):\n",
    "    # select a random source node\n",
    "    rnd_node = seed.choice(list(Graph))\n",
    "    # get the distances to the other nodes\n",
    "    # node_a,*_ = max(nx.single_source_shortest_path_length(Graph, source).items(),key=lambda k:k[1])\n",
    "    source= list(nx.single_source_shortest_path_length(Graph, rnd_node))[-1] #____\n",
    "    # take a node that is (one of) the farthest nodes from the source\n",
    "    distances_b = list(nx.single_source_shortest_path_length(Graph, source).items())\n",
    "    # print(distances_b)\n",
    "    index_start_node=bisect.bisect_left(distances_b,int(distances_b[-1][1]/2),key=lambda k:k[1]) #start all nodes at distance/2\n",
    "    index_end_node=bisect.bisect_right(distances_b,int(distances_b[-1][1]/2),key=lambda k:k[1]) #end \n",
    "    # best_node=max(distances[index_start_node::index_end_node],key=lambda k:len(H_small[k[0]]))\n",
    "    # node_b,*_=max(distances_b.items(),key=lambda k:k[1])\n",
    "    # node_b=distances_b[-1]\n",
    "    return max(distances_b[index_start_node::index_end_node],key=lambda k:len(H_small[k[0]])) #highest degree"
   ]
  },
  {
   "cell_type": "code",
   "execution_count": 7,
   "metadata": {},
   "outputs": [],
   "source": [
    "def iFUB(G,node_start):\n",
    "    i=nx.eccentricity(G,node_start)\n",
    "    lb=i\n",
    "    ub=2*i\n",
    "    # distances=nx.single_source_shortest_path_length(G,node_start,cutoff=i)\n",
    "    list_fringe=itertools.groupby(reversed(nx.single_source_shortest_path_length(G,node_start,cutoff=i).items()),key=lambda k:k[1])\n",
    "    max_ecc=0\n",
    "    while ub>lb:\n",
    "        for _,group in list_fringe:\n",
    "            group=list(group)\n",
    "            for element in group:\n",
    "                ecc=nx.eccentricity(G,element).get(element[0])\n",
    "                # print(str(ecc)+';'+str(2*(i-1)))\n",
    "                if ecc>(2*(i-1)):\n",
    "                    return ecc\n",
    "                if ecc>max_ecc:\n",
    "                    max_ecc=ecc\n",
    "            break\n",
    "        lb=max(lb,max_ecc)\n",
    "        ub=2*(i-1)\n",
    "        i=i-1\n",
    "    # print(str(ub)+';'+str(lb))\n",
    "    return lb"
   ]
  },
  {
   "cell_type": "code",
   "execution_count": 8,
   "metadata": {},
   "outputs": [
    {
     "name": "stdout",
     "output_type": "stream",
     "text": [
      "Only films up to 1930\n",
      "(2039584, 18)\n",
      "Diameter -> 32\n",
      "Time -> 53.97123384475708\n",
      "Unexpected exception formatting exception. Falling back to standard exception\n"
     ]
    },
    {
     "name": "stderr",
     "output_type": "stream",
     "text": [
      "Traceback (most recent call last):\n",
      "  File \"c:\\Users\\franc\\Developer\\venvs\\3.10-general\\lib\\site-packages\\IPython\\core\\interactiveshell.py\", line 3397, in run_code\n",
      "    exec(code_obj, self.user_global_ns, self.user_ns)\n",
      "  File \"C:\\Users\\franc\\AppData\\Local\\Temp\\ipykernel_17736\\1494886860.py\", line -1, in <cell line: 3>\n",
      "KeyboardInterrupt\n",
      "\n",
      "During handling of the above exception, another exception occurred:\n",
      "\n",
      "Traceback (most recent call last):\n",
      "  File \"c:\\Users\\franc\\Developer\\venvs\\3.10-general\\lib\\site-packages\\IPython\\core\\interactiveshell.py\", line 1992, in showtraceback\n",
      "    stb = self.InteractiveTB.structured_traceback(\n",
      "  File \"c:\\Users\\franc\\Developer\\venvs\\3.10-general\\lib\\site-packages\\IPython\\core\\ultratb.py\", line 1118, in structured_traceback\n",
      "    return FormattedTB.structured_traceback(\n",
      "  File \"c:\\Users\\franc\\Developer\\venvs\\3.10-general\\lib\\site-packages\\IPython\\core\\ultratb.py\", line 1012, in structured_traceback\n",
      "    return VerboseTB.structured_traceback(\n",
      "  File \"c:\\Users\\franc\\Developer\\venvs\\3.10-general\\lib\\site-packages\\IPython\\core\\ultratb.py\", line 865, in structured_traceback\n",
      "    formatted_exception = self.format_exception_as_a_whole(etype, evalue, etb, number_of_lines_of_context,\n",
      "  File \"c:\\Users\\franc\\Developer\\venvs\\3.10-general\\lib\\site-packages\\IPython\\core\\ultratb.py\", line 818, in format_exception_as_a_whole\n",
      "    frames.append(self.format_record(r))\n",
      "  File \"c:\\Users\\franc\\Developer\\venvs\\3.10-general\\lib\\site-packages\\IPython\\core\\ultratb.py\", line 736, in format_record\n",
      "    result += ''.join(_format_traceback_lines(frame_info.lines, Colors, self.has_colors, lvals))\n",
      "  File \"c:\\Users\\franc\\Developer\\venvs\\3.10-general\\lib\\site-packages\\stack_data\\utils.py\", line 145, in cached_property_wrapper\n",
      "    value = obj.__dict__[self.func.__name__] = self.func(obj)\n",
      "  File \"c:\\Users\\franc\\Developer\\venvs\\3.10-general\\lib\\site-packages\\stack_data\\core.py\", line 698, in lines\n",
      "    pieces = self.included_pieces\n",
      "  File \"c:\\Users\\franc\\Developer\\venvs\\3.10-general\\lib\\site-packages\\stack_data\\utils.py\", line 145, in cached_property_wrapper\n",
      "    value = obj.__dict__[self.func.__name__] = self.func(obj)\n",
      "  File \"c:\\Users\\franc\\Developer\\venvs\\3.10-general\\lib\\site-packages\\stack_data\\core.py\", line 649, in included_pieces\n",
      "    pos = scope_pieces.index(self.executing_piece)\n",
      "  File \"c:\\Users\\franc\\Developer\\venvs\\3.10-general\\lib\\site-packages\\stack_data\\utils.py\", line 145, in cached_property_wrapper\n",
      "    value = obj.__dict__[self.func.__name__] = self.func(obj)\n",
      "  File \"c:\\Users\\franc\\Developer\\venvs\\3.10-general\\lib\\site-packages\\stack_data\\core.py\", line 628, in executing_piece\n",
      "    return only(\n",
      "  File \"c:\\Users\\franc\\Developer\\venvs\\3.10-general\\lib\\site-packages\\executing\\executing.py\", line 164, in only\n",
      "    raise NotOneValueFound('Expected one value, found 0')\n",
      "executing.executing.NotOneValueFound: Expected one value, found 0\n"
     ]
    }
   ],
   "source": [
    "x = [1930,1940,1950,1960,1970,1980,1990,2000,2010,2020]\n",
    "# year=2000\n",
    "for year in x:\n",
    "    time_start=time.time()\n",
    "    list_nodes=set()\n",
    "    for u,v in G.edges():\n",
    "        if G[u][v]['year'] <= year:\n",
    "            list_nodes.add(u)\n",
    "            list_nodes.add(v)\n",
    "    largest_cc=max(nx.connected_components(G.subgraph(list_nodes)),key=len)\n",
    "    H_small=G.subgraph(largest_cc)\n",
    "    del(largest_cc)\n",
    "    del(list_nodes)\n",
    "    print('Only films up to '+str(year))\n",
    "    node_start=two_sweep(H_small,None)\n",
    "    # print(node_start)\n",
    "    # print('start iFUB')\n",
    "    print(node_start)\n",
    "    diameter=iFUB(H_small,node_start[0])\n",
    "    time_end=time.time()\n",
    "    print('Diameter -> '+str(diameter))\n",
    "    print('Time -> '+str(time_end-time_start))"
   ]
  },
  {
   "cell_type": "markdown",
   "metadata": {},
   "source": [
    "--------------------------------------------------\n",
    "<h3>Which is the movie with the largest number of popular actors, i.e. such that the sum of the number of movies its actors participated in is maximum? For example movie M contains actors A and B. A participated in 5 movies, B in 3. The score of M is 8.</h3>"
   ]
  },
  {
   "cell_type": "code",
   "execution_count": null,
   "metadata": {},
   "outputs": [
    {
     "name": "stdout",
     "output_type": "stream",
     "text": [
      "100000\n",
      "200000\n",
      "300000\n",
      "400000\n",
      "500000\n",
      "600000\n",
      "700000\n"
     ]
    },
    {
     "data": {
      "text/plain": [
       "{'count': 34181, 'movies': [254783]}"
      ]
     },
     "execution_count": 9,
     "metadata": {},
     "output_type": "execute_result"
    }
   ],
   "source": [
    "largest_movie={'count':0,'movies':[]}  \n",
    "for film,_ in key_to_film.items():\n",
    "    edges=G.edges(film)\n",
    "    count=sum(G.degree(act) for _,act in G.edges(film))\n",
    "    if count>=largest_movie['count']:\n",
    "        if count>largest_movie['count']:\n",
    "            largest_movie['count']=count\n",
    "            largest_movie['movies']=[]\n",
    "        largest_movie['movies'].append(film)\n",
    "key_to_film[largest_movie['movies']]\n",
    "largest_movie"
   ]
  },
  {
   "cell_type": "markdown",
   "metadata": {},
   "source": [
    "-------------------------------------------\n",
    "<h3>Build also the actor graph, whose nodes are only actors and two actors are connected if they did a movie together.<br>\n",
    "Which is the pair of actors who collaborated the most among themselves?</h3>\n"
   ]
  },
  {
   "cell_type": "code",
   "execution_count": null,
   "metadata": {},
   "outputs": [],
   "source": [
    "#ordered list\n",
    "def create_graph_actors_ordered(): \n",
    "    collaborations={}\n",
    "    best_collaborators=[0,[]]\n",
    "    count=0\n",
    "    G_actor=nx.Graph()\n",
    "    for actor_1 in key_to_actor:\n",
    "        list_films=itertools.chain(G[actor_1])\n",
    "        count+=1\n",
    "        for film in list_films:\n",
    "            list_actor_for_film=itertools.chain(G[film])\n",
    "            for actor_2 in list_actor_for_film:\n",
    "                if actor_2>actor_1: # avoid duplication \n",
    "                    if actor_2 in collaborations:\n",
    "                        collaborations[actor_2]+=1\n",
    "                        if collaborations[actor_2]>=best_collaborators[0]:\n",
    "                            if collaborations[actor_2]>best_collaborators[0]:\n",
    "                                best_collaborators[0]=collaborations[actor_2]\n",
    "                                best_collaborators[1]=[]\n",
    "                            best_collaborators[1].append(actor_2)\n",
    "                    else:\n",
    "                        collaborations[actor_2]=1\n",
    "        for element in (collaborations.items()): # pick max items and add it as first/last edge\n",
    "            if element[0] not in best_collaborators[1]:\n",
    "                G_actor.add_edge(actor_1,element[0],weight=element[1])\n",
    "        collaborations.clear()\n",
    "        for element in itertools.chain(best_collaborators[1]):\n",
    "            # print(element)\n",
    "            G_actor.add_edge(actor_1,element,weight=best_collaborators[0])\n",
    "        best_collaborators=[0,[]]\n",
    "        if(count%100_000==0):\n",
    "            print(count)\n",
    "    return G_actor"
   ]
  },
  {
   "cell_type": "code",
   "execution_count": null,
   "metadata": {},
   "outputs": [
    {
     "name": "stdout",
     "output_type": "stream",
     "text": [
      "100000\n",
      "200000\n",
      "300000\n",
      "400000\n",
      "500000\n",
      "600000\n",
      "700000\n",
      "800000\n",
      "900000\n",
      "1000000\n",
      "1100000\n",
      "1200000\n",
      "1300000\n",
      "1400000\n",
      "1500000\n",
      "1600000\n",
      "1700000\n",
      "1800000\n",
      "1900000\n",
      "2000000\n",
      "2100000\n",
      "2200000\n",
      "2300000\n"
     ]
    }
   ],
   "source": [
    "G_actor=create_graph_actors_ordered()"
   ]
  },
  {
   "cell_type": "code",
   "execution_count": 12,
   "metadata": {},
   "outputs": [
    {
     "name": "stdout",
     "output_type": "stream",
     "text": [
      "Unexpected exception formatting exception. Falling back to standard exception\n"
     ]
    },
    {
     "name": "stderr",
     "output_type": "stream",
     "text": [
      "Traceback (most recent call last):\n",
      "  File \"c:\\Users\\franc\\Developer\\venvs\\3.10-general\\lib\\site-packages\\IPython\\core\\interactiveshell.py\", line 3397, in run_code\n",
      "    exec(code_obj, self.user_global_ns, self.user_ns)\n",
      "  File \"C:\\Users\\franc\\AppData\\Local\\Temp\\ipykernel_17736\\4083202141.py\", line -1, in <cell line: 6>\n",
      "KeyboardInterrupt\n",
      "\n",
      "During handling of the above exception, another exception occurred:\n",
      "\n",
      "Traceback (most recent call last):\n",
      "  File \"c:\\Users\\franc\\Developer\\venvs\\3.10-general\\lib\\site-packages\\IPython\\core\\interactiveshell.py\", line 1992, in showtraceback\n",
      "    stb = self.InteractiveTB.structured_traceback(\n",
      "  File \"c:\\Users\\franc\\Developer\\venvs\\3.10-general\\lib\\site-packages\\IPython\\core\\ultratb.py\", line 1118, in structured_traceback\n",
      "    return FormattedTB.structured_traceback(\n",
      "  File \"c:\\Users\\franc\\Developer\\venvs\\3.10-general\\lib\\site-packages\\IPython\\core\\ultratb.py\", line 1012, in structured_traceback\n",
      "    return VerboseTB.structured_traceback(\n",
      "  File \"c:\\Users\\franc\\Developer\\venvs\\3.10-general\\lib\\site-packages\\IPython\\core\\ultratb.py\", line 865, in structured_traceback\n",
      "    formatted_exception = self.format_exception_as_a_whole(etype, evalue, etb, number_of_lines_of_context,\n",
      "  File \"c:\\Users\\franc\\Developer\\venvs\\3.10-general\\lib\\site-packages\\IPython\\core\\ultratb.py\", line 818, in format_exception_as_a_whole\n",
      "    frames.append(self.format_record(r))\n",
      "  File \"c:\\Users\\franc\\Developer\\venvs\\3.10-general\\lib\\site-packages\\IPython\\core\\ultratb.py\", line 736, in format_record\n",
      "    result += ''.join(_format_traceback_lines(frame_info.lines, Colors, self.has_colors, lvals))\n",
      "  File \"c:\\Users\\franc\\Developer\\venvs\\3.10-general\\lib\\site-packages\\stack_data\\utils.py\", line 145, in cached_property_wrapper\n",
      "    value = obj.__dict__[self.func.__name__] = self.func(obj)\n",
      "  File \"c:\\Users\\franc\\Developer\\venvs\\3.10-general\\lib\\site-packages\\stack_data\\core.py\", line 698, in lines\n",
      "    pieces = self.included_pieces\n",
      "  File \"c:\\Users\\franc\\Developer\\venvs\\3.10-general\\lib\\site-packages\\stack_data\\utils.py\", line 145, in cached_property_wrapper\n",
      "    value = obj.__dict__[self.func.__name__] = self.func(obj)\n",
      "  File \"c:\\Users\\franc\\Developer\\venvs\\3.10-general\\lib\\site-packages\\stack_data\\core.py\", line 649, in included_pieces\n",
      "    pos = scope_pieces.index(self.executing_piece)\n",
      "  File \"c:\\Users\\franc\\Developer\\venvs\\3.10-general\\lib\\site-packages\\stack_data\\utils.py\", line 145, in cached_property_wrapper\n",
      "    value = obj.__dict__[self.func.__name__] = self.func(obj)\n",
      "  File \"c:\\Users\\franc\\Developer\\venvs\\3.10-general\\lib\\site-packages\\stack_data\\core.py\", line 628, in executing_piece\n",
      "    return only(\n",
      "  File \"c:\\Users\\franc\\Developer\\venvs\\3.10-general\\lib\\site-packages\\executing\\executing.py\", line 164, in only\n",
      "    raise NotOneValueFound('Expected one value, found 0')\n",
      "executing.executing.NotOneValueFound: Expected one value, found 0\n"
     ]
    }
   ],
   "source": [
    "# G_actor ordered\n",
    "best_result={'count':0,'pairs':[]} #3:35 min\n",
    "count=0\n",
    "jump=0\n",
    "# table={'list':[],'search':[]}\n",
    "for actor in itertools.chain(G_actor):\n",
    "    count+=1\n",
    "    for actor_2 in itertools.chain(reversed(list(G_actor[actor]))):\n",
    "        colls=G_actor[actor][actor_2]['weight']\n",
    "        if colls>=best_result['count']:\n",
    "            if colls>best_result['count']:\n",
    "                best_result['count']=colls\n",
    "                best_result['pairs']=[]\n",
    "            best_result['pairs'].append((actor,actor_2))\n",
    "        else:\n",
    "            jump+=1\n",
    "            break\n",
    "    if count%100_000==0:\n",
    "        print(count)\n",
    "best_result"
   ]
  }
 ],
 "metadata": {
  "interpreter": {
   "hash": "eca9d8eae0a3d9b8615827aec8d30cb7ef61b7acb27ed4e12f2cbf1b5cd4cb0f"
  },
  "kernelspec": {
   "display_name": "Python 3 (ipykernel)",
   "language": "python",
   "name": "python3"
  },
  "language_info": {
   "codemirror_mode": {
    "name": "ipython",
    "version": 3
   },
   "file_extension": ".py",
   "mimetype": "text/x-python",
   "name": "python",
   "nbconvert_exporter": "python",
   "pygments_lexer": "ipython3",
   "version": "3.10.4"
  }
 },
 "nbformat": 4,
 "nbformat_minor": 2
}
