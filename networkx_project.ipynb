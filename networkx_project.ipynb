{
 "cells": [
  {
   "cell_type": "code",
   "execution_count": 2,
   "metadata": {},
   "outputs": [],
   "source": [
    "# Python v3.10.4\n",
    "import re\n",
    "import numpy as np\n",
    "import networkx as nx #v2.8.2\n",
    "import random as rnd\n",
    "import itertools\n",
    "from networkx.utils.decorators import py_random_state\n",
    "import bisect\n",
    "import time"
   ]
  },
  {
   "cell_type": "markdown",
   "metadata": {},
   "source": [
    "--------------------------------------\n",
    "<h3>Creation graph from dataset</h3>\n",
    "<h5>ID odd -> film <br>\n",
    "    ID even -> actor</h5>"
   ]
  },
  {
   "cell_type": "code",
   "execution_count": 3,
   "metadata": {},
   "outputs": [
    {
     "name": "stdout",
     "output_type": "stream",
     "text": [
      "['']\n"
     ]
    }
   ],
   "source": [
    "file=open('imdb-actors-actresses-movies.tsv','r')\n",
    "EOF=False\n",
    "id_actor=0\n",
    "id_film=1\n",
    "count_actor=0\n",
    "count_film=1\n",
    "actor_to_key={}\n",
    "key_to_actor={}\n",
    "film_to_key={}\n",
    "key_to_film={}\n",
    "G=nx.Graph()\n",
    "while not EOF:\n",
    "    line=file.readline().split('\\n')\n",
    "    record=line[0].split('\\t')\n",
    "    if  len(record)<2:\n",
    "        print(record)\n",
    "        EOF=True\n",
    "    else:\n",
    "        film=record[1]\n",
    "        year=re.search(\"\\s\\([0-9]{4}\\)\",film)\n",
    "        actor=record[0]\n",
    "        if year:\n",
    "            year=np.int16(year.group(0).replace(\" (\",'').replace(')',''))\n",
    "        else:\n",
    "            year=re.search(\"\\s\\([0-9]{4}\\/\",film)\n",
    "            if year:\n",
    "                year=np.int16(year.group(0).replace(\" (\",'').replace('/',''))\n",
    "            else:\n",
    "                year=3000 #fake year\n",
    "        if actor not in actor_to_key:\n",
    "            id_actor=count_actor\n",
    "            count_actor=count_actor+2\n",
    "            actor_to_key[actor]=id_actor\n",
    "            key_to_actor[id_actor]=actor\n",
    "        else:\n",
    "            id_actor=actor_to_key[actor]\n",
    "        if film not in film_to_key:\n",
    "            id_film=count_film\n",
    "            count_film=count_film+2\n",
    "            film_to_key[film]=id_film\n",
    "            key_to_film[id_film]=(film,year)\n",
    "        else:\n",
    "            id_film=film_to_key[film]\n",
    "        G.add_edge(id_actor,id_film,year=year)\n",
    "del film_to_key\n",
    "del actor_to_key\n",
    "del id_actor\n",
    "del id_film\n",
    "del count_actor\n",
    "del count_film"
   ]
  },
  {
   "cell_type": "markdown",
   "metadata": {},
   "source": [
    "--------------------------------------\n",
    "<h3>Which is the movie with the largest number of actors, considering only the movies up to year x?</h3>"
   ]
  },
  {
   "cell_type": "code",
   "execution_count": null,
   "metadata": {},
   "outputs": [],
   "source": [
    "x = [1930,1940,1950,1960,1970,1980,1990,2000,2010,2020]\n",
    "up_to_year=x[rnd.randint(0,len(x)-1)]\n",
    "time_start=time.time()\n",
    "best_result={'count':0,'movies':[]}\n",
    "for film,name_year in key_to_film.items():\n",
    "    if name_year[1]<=up_to_year:\n",
    "        tot_actors=len(G[film])\n",
    "        if(tot_actors>=best_result['count']):\n",
    "            if tot_actors>best_result['count']:\n",
    "                best_result['movies']=[]\n",
    "                best_result['count']=tot_actors\n",
    "            best_result['movies'].append(film)\n",
    "print('up to year -> '+str(up_to_year))\n",
    "print('Number of actors -> '+str(best_result['count']))\n",
    "for movie in best_result['movies']:\n",
    "    print('Film -> '+key_to_film[movie][0])"
   ]
  },
  {
   "cell_type": "markdown",
   "metadata": {},
   "source": [
    "----------------------------------------------------------\n",
    "<h3>Considering only the movies up to year x with x in {1930,1940,1950,1960,1970,1980,1990,2000,2010,2020} and restricting to the largest connected component of the graph.<br> \n",
    "Compute exactly the diameter of G</h3>\n"
   ]
  },
  {
   "cell_type": "code",
   "execution_count": 9,
   "metadata": {},
   "outputs": [],
   "source": [
    "@py_random_state(1)\n",
    "def two_sweep(Graph, seed):\n",
    "    # select a random source node\n",
    "    rnd_node = seed.choice(list(Graph))\n",
    "    # get the distances to the other nodes\n",
    "    source= list(nx.single_source_shortest_path_length(Graph, rnd_node))[-1] #____\n",
    "    # take a node that is (one of) the farthest nodes from the source\n",
    "    distances_b = list(nx.single_source_shortest_path_length(Graph, source).items())\n",
    "    index_start_node=bisect.bisect_left(distances_b,int(distances_b[-1][1]/2),key=lambda k:k[1]) #start all nodes at distance/2\n",
    "    index_end_node=bisect.bisect_right(distances_b,int(distances_b[-1][1]/2),key=lambda k:k[1]) #end _ \n",
    "    return max(distances_b[index_start_node::index_end_node],key=lambda k:len(H_small[k[0]])),distances_b[-1][1] #highest degree"
   ]
  },
  {
   "cell_type": "code",
   "execution_count": 12,
   "metadata": {},
   "outputs": [],
   "source": [
    "def iFUB(G,node_start):\n",
    "    list_fringe=itertools.groupby(reversed(nx.single_source_shortest_path_length(G,node_start).items()),key=lambda k:k[1])\n",
    "    group=next(list_fringe)\n",
    "    i=group[0]\n",
    "    lb=i\n",
    "    ub=2*i\n",
    "    max_ecc=0\n",
    "    count_bfs=1\n",
    "    while ub>lb:\n",
    "        for element in group[1]:\n",
    "            ecc=nx.eccentricity(G,element[0])\n",
    "            count_bfs+=1\n",
    "            if ecc>(2*(i-1)):\n",
    "                return ecc\n",
    "            if ecc>max_ecc:\n",
    "                max_ecc=ecc\n",
    "        lb=max(lb,max_ecc)\n",
    "        ub=2*(i-1)\n",
    "        i=i-1\n",
    "        group=next(list_fringe)\n",
    "    print('Nr bfs -> '+str(count_bfs))\n",
    "    return lb"
   ]
  },
  {
   "cell_type": "code",
   "execution_count": 13,
   "metadata": {},
   "outputs": [
    {
     "name": "stdout",
     "output_type": "stream",
     "text": [
      "Only films up to 1930\n",
      "32\n",
      "Nr bfs -> 34\n",
      "Diameter -> 32\n",
      "Time -> 51.34049940109253\n"
     ]
    }
   ],
   "source": [
    "x = [1930,1940,1950,1960,1970,1980,1990,2000,2010,2020]\n",
    "year=rnd.choice(x)\n",
    "time_start=time.time()\n",
    "list_nodes=set()\n",
    "for u,v in G.edges():\n",
    "    if G[u][v]['year'] <= year:\n",
    "        list_nodes.add(u)\n",
    "        list_nodes.add(v)\n",
    "largest_cc=max(nx.connected_components(G.subgraph(list_nodes)),key=len)\n",
    "H_small=G.subgraph(largest_cc)\n",
    "del(largest_cc)\n",
    "del(list_nodes)\n",
    "print('Only films up to '+str(year))\n",
    "node_start,lb=two_sweep(H_small,None)\n",
    "print(lb)\n",
    "diameter=iFUB(H_small,node_start[0])\n",
    "time_end=time.time()\n",
    "print('Diameter -> '+str(diameter))\n",
    "print('Time -> '+str(time_end-time_start))"
   ]
  },
  {
   "cell_type": "markdown",
   "metadata": {},
   "source": [
    "--------------------------------------------------\n",
    "<h3>Which is the movie with the largest number of popular actors, i.e. such that the sum of the number of movies its actors participated in is maximum? For example movie M contains actors A and B. A participated in 5 movies, B in 3. The score of M is 8.</h3>"
   ]
  },
  {
   "cell_type": "code",
   "execution_count": null,
   "metadata": {},
   "outputs": [],
   "source": [
    "largest_movie={'count':0,'movies':[]}  \n",
    "for film,_ in itertools.chain(key_to_film.items()):\n",
    "    count=sum(G.degree(act) for _,act in itertools.chain(G.edges(film)))\n",
    "    if count>=largest_movie['count']:\n",
    "        if count>largest_movie['count']:\n",
    "            largest_movie['count']=count\n",
    "            largest_movie['movies']=[]\n",
    "        largest_movie['movies'].append(film)\n",
    "print(largest_movie)\n",
    "for i in largest_movie['movies']:\n",
    "    print(key_to_film[i])"
   ]
  },
  {
   "cell_type": "markdown",
   "metadata": {},
   "source": [
    "-------------------------------------------\n",
    "<h3>Build also the actor graph, whose nodes are only actors and two actors are connected if they did a movie together.<br>\n",
    "Which is the pair of actors who collaborated the most among themselves?</h3>\n"
   ]
  },
  {
   "cell_type": "code",
   "execution_count": null,
   "metadata": {},
   "outputs": [],
   "source": [
    "def create_graph_actors_partially_ordered(): \n",
    "    collaborations={}\n",
    "    best_collaborators=[0,[]]\n",
    "    G_actor=nx.Graph()\n",
    "    count=0\n",
    "    for actor_1 in key_to_actor:\n",
    "        count+=1\n",
    "        list_films=itertools.chain(G[actor_1])\n",
    "        for film in list_films:\n",
    "            list_actor_for_film=itertools.chain(G[film])\n",
    "            for actor_2 in list_actor_for_film:\n",
    "                if actor_2>actor_1: # avoid duplication\n",
    "                    if actor_2 in collaborations:\n",
    "                        collaborations[actor_2]+=1\n",
    "                        if collaborations[actor_2]>=best_collaborators[0]:\n",
    "                            if collaborations[actor_2]>best_collaborators[0]:\n",
    "                                best_collaborators[0]=collaborations[actor_2]\n",
    "                                best_collaborators[1]=[]\n",
    "                            best_collaborators[1].append(actor_2)\n",
    "                    else:\n",
    "                        collaborations[actor_2]=1\n",
    "        for element in itertools.chain(best_collaborators[1]): # pick max items and add them as last\n",
    "            G_actor.add_edge(actor_1,element,weight=best_collaborators[0])\n",
    "        for element in (collaborations.items()):\n",
    "            if element[0] not in best_collaborators[1]:\n",
    "                G_actor.add_edge(actor_1,element[0],weight=element[1])\n",
    "        collaborations.clear()\n",
    "        best_collaborators=[0,[]]\n",
    "        if count%300_000==0:\n",
    "            print(str(count/len(key_to_actor)*100)+' %')\n",
    "    return G_actor"
   ]
  },
  {
   "cell_type": "code",
   "execution_count": null,
   "metadata": {},
   "outputs": [],
   "source": [
    "# 6 min\n",
    "G_actor=create_graph_actors_partially_ordered()"
   ]
  },
  {
   "cell_type": "code",
   "execution_count": null,
   "metadata": {},
   "outputs": [],
   "source": [
    "# 4:10 min\n",
    "best_result={'count':0,'pairs':[]} \n",
    "count=0\n",
    "for actor in itertools.chain(G_actor):\n",
    "    count+=1\n",
    "    for actor_2 in itertools.chain(((G_actor[actor]))):\n",
    "        if actor_2>actor:\n",
    "            colls=G_actor[actor][actor_2]['weight']\n",
    "            if colls>=best_result['count']:\n",
    "                if colls>best_result['count']:\n",
    "                    best_result['count']=colls\n",
    "                    best_result['pairs']=[]\n",
    "                best_result['pairs'].append((actor,actor_2))\n",
    "            else:\n",
    "                break\n",
    "    if count%300_000==0:\n",
    "        print(str(count/len(key_to_actor)*100)+' %')\n",
    "best_result"
   ]
  }
 ],
 "metadata": {
  "interpreter": {
   "hash": "eca9d8eae0a3d9b8615827aec8d30cb7ef61b7acb27ed4e12f2cbf1b5cd4cb0f"
  },
  "kernelspec": {
   "display_name": "Python 3 (ipykernel)",
   "language": "python",
   "name": "python3"
  },
  "language_info": {
   "codemirror_mode": {
    "name": "ipython",
    "version": 3
   },
   "file_extension": ".py",
   "mimetype": "text/x-python",
   "name": "python",
   "nbconvert_exporter": "python",
   "pygments_lexer": "ipython3",
   "version": "3.10.5"
  }
 },
 "nbformat": 4,
 "nbformat_minor": 2
}
